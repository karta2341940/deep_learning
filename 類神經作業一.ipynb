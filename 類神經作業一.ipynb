{
 "cells": [
  {
   "attachments": {},
   "cell_type": "markdown",
   "metadata": {},
   "source": [
    "# 引入相依性"
   ]
  },
  {
   "cell_type": "code",
   "execution_count": null,
   "metadata": {},
   "outputs": [],
   "source": [
    "import torch.nn as nn\n",
    "import torch\n",
    "import os\n",
    "import sys\n",
    "import numpy as np\n",
    "from PIL import Image as images\n",
    "from torchvision import transforms\n",
    "import torch.optim as optim"
   ]
  },
  {
   "cell_type": "code",
   "execution_count": null,
   "metadata": {},
   "outputs": [],
   "source": [
    "device = (torch.device('cuda') if torch.cuda.is_available() else torch.device('cpu'))\n",
    "def 確認GPU():\n",
    "    device = (torch.device('cuda') if torch.cuda.is_available()\n",
    "    else torch.device('cpu'))\n",
    "    print(f\"Training on device {device}.\")\n",
    "確認GPU()"
   ]
  },
  {
   "attachments": {},
   "cell_type": "markdown",
   "metadata": {},
   "source": [
    "# 讀取資料"
   ]
  },
  {
   "cell_type": "code",
   "execution_count": null,
   "metadata": {},
   "outputs": [],
   "source": [
    "group = os.listdir(\"test\")\n",
    "toTensor = transforms.ToTensor()\n",
    "resize = transforms.Resize([256,256])\n",
    "testTensorArray=[]\n",
    "trainTensorArray=[]\n",
    "index = 0\n",
    "for label in group:\n",
    "    testlabels = os.listdir(\"test/\"+label)\n",
    "    trainlabels = os.listdir(\"train/\"+label)\n",
    "    for j in testlabels:\n",
    "        testReadImage = resize(images.open(\"test/%s/%s\" %(label,j)))\n",
    "        testTensorImg = toTensor(testReadImage)\n",
    "        if testTensorImg.shape[0] != 3:\n",
    "            testTensorImg=testTensorImg.expand([3,-1,-1])\n",
    "        testTensorArray.append((testTensorImg,index))\n",
    "    for j in trainlabels:\n",
    "        trainReadImage = resize(images.open(\"train/%s/%s\" %(label,j)))\n",
    "        trainTensorImg = toTensor(trainReadImage)\n",
    "        if trainTensorImg.shape[0] != 3:\n",
    "            trainTensorImg=trainTensorImg.expand([3,-1,-1])\n",
    "        trainTensorArray.append((trainTensorImg,index))\n",
    "    index = index+1"
   ]
  },
  {
   "attachments": {},
   "cell_type": "markdown",
   "metadata": {},
   "source": [
    "# 建model"
   ]
  },
  {
   "cell_type": "code",
   "execution_count": null,
   "metadata": {},
   "outputs": [],
   "source": [
    "model = nn.Sequential(\n",
    "    nn.Linear(196608,8192),\n",
    "    nn.Tanh(),\n",
    "    nn.Linear(8192,1024),\n",
    "    nn.Tanh(),\n",
    "    nn.Linear(1024,10),\n",
    "    nn.ReLU(),\n",
    "    nn.Softmax(dim=1)\n",
    ")"
   ]
  },
  {
   "attachments": {},
   "cell_type": "markdown",
   "metadata": {},
   "source": [
    "# 定義參數"
   ]
  },
  {
   "cell_type": "code",
   "execution_count": null,
   "metadata": {},
   "outputs": [],
   "source": [
    "學習率 = 0.01\n",
    "損失函數 = nn.CrossEntropyLoss()\n",
    "優化器 = optim.SGD(model.parameters(),lr=學習率)\n",
    "epoches = 8192"
   ]
  },
  {
   "attachments": {},
   "cell_type": "markdown",
   "metadata": {},
   "source": [
    "# Loading test set"
   ]
  },
  {
   "cell_type": "code",
   "execution_count": null,
   "metadata": {},
   "outputs": [],
   "source": [
    "訓練集 = torch.utils.data.DataLoader(trainTensorArray, batch_size=1, shuffle=True)\n",
    "測試集 = torch.utils.data.DataLoader(testTensorArray, batch_size=1, shuffle=False)"
   ]
  },
  {
   "attachments": {},
   "cell_type": "markdown",
   "metadata": {},
   "source": [
    "# 訓練"
   ]
  },
  {
   "cell_type": "code",
   "execution_count": null,
   "metadata": {},
   "outputs": [],
   "source": [
    "model = model.to(device)\n",
    "for epoch in range(epoches):\n",
    "    for imgs, labels in 訓練集:\n",
    "        torch.cuda.empty_cache()\n",
    "        batch_size = imgs.shape[0]\n",
    "        outputs = model(imgs.to(device).view(batch_size, -1))\n",
    "        loss = 損失函數(outputs, labels.to(device))\n",
    "        優化器.zero_grad()\n",
    "        loss.backward()\n",
    "        優化器.step()\n",
    "    print(\"Epoch: %d, Loss: %f\" % (epoch, float(loss)))"
   ]
  },
  {
   "attachments": {},
   "cell_type": "markdown",
   "metadata": {},
   "source": [
    "# 驗證"
   ]
  },
  {
   "cell_type": "code",
   "execution_count": null,
   "metadata": {},
   "outputs": [],
   "source": [
    "correct = 0\n",
    "total = 0\n",
    "model = model.to(device)\n",
    "with torch.no_grad():\n",
    "    for imgs, labels in 測試集:\n",
    "        torch.cuda.empty_cache()\n",
    "        batch_size = imgs.shape[0]\n",
    "        outputs = model(imgs.to(device).view(batch_size, -1))\n",
    "        _, predicted = torch.max(outputs, dim=1)\n",
    "        total += labels.shape[0]\n",
    "        correct += int((predicted == labels.to(device)).sum())\n",
    "print(\"Accuracy: %f\", correct / total)\n",
    "model=model.cpu()\n",
    "torch.cuda.empty_cache()"
   ]
  }
 ],
 "metadata": {
  "kernelspec": {
   "display_name": "base",
   "language": "python",
   "name": "python3"
  },
  "language_info": {
   "codemirror_mode": {
    "name": "ipython",
    "version": 3
   },
   "file_extension": ".py",
   "mimetype": "text/x-python",
   "name": "python",
   "nbconvert_exporter": "python",
   "pygments_lexer": "ipython3",
   "version": "3.7.15"
  },
  "orig_nbformat": 4,
  "vscode": {
   "interpreter": {
    "hash": "d4d1e4263499bec80672ea0156c357c1ee493ec2b1c70f0acce89fc37c4a6abe"
   }
  }
 },
 "nbformat": 4,
 "nbformat_minor": 2
}
