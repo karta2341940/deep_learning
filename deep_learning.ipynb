{
 "cells": [
  {
   "attachments": {},
   "cell_type": "markdown",
   "metadata": {},
   "source": [
    "# HomeWork"
   ]
  },
  {
   "cell_type": "code",
   "execution_count": null,
   "metadata": {},
   "outputs": [],
   "source": [
    "import tensorflow as tf\n",
    "from sklearn.model_selection import KFold,StratifiedKFold\n",
    "from sklearn.metrics import accuracy_score, f1_score, precision_score, confusion_matrix\n",
    "import numpy as np\n",
    "from os import listdir,path\n",
    "import random\n",
    "import shutil"
   ]
  },
  {
   "attachments": {},
   "cell_type": "markdown",
   "metadata": {},
   "source": [
    "# Variables Declare"
   ]
  },
  {
   "cell_type": "code",
   "execution_count": null,
   "metadata": {},
   "outputs": [],
   "source": [
    "img_size=(128,128)\n",
    "generator = tf.keras.preprocessing.image.ImageDataGenerator(rescale=1./255)\n",
    "trainDataPath = '/home/train'\n",
    "testDataPath = '/home/test'\n",
    "validationDataPath = '/home/validation'\n",
    "batchSize = 32\n",
    "classMode = 'categorical'\n",
    "classficationLabels = listdir(trainDataPath)\n",
    "arrX = []\n",
    "arrY = []\n",
    "datasetFolderName = path.join('')\n",
    "trainData = None\n",
    "testData = None\n",
    "validData = None"
   ]
  },
  {
   "attachments": {},
   "cell_type": "markdown",
   "metadata": {},
   "source": [
    "# Load the data"
   ]
  },
  {
   "cell_type": "code",
   "execution_count": null,
   "metadata": {},
   "outputs": [],
   "source": [
    "def loadData(type):\n",
    "    if type == 'train':\n",
    "        \n",
    "        trainData = tf.keras.preprocessing.image.ImageDataGenerator(\n",
    "            rescale=1./255,\n",
    "            zoom_range=0.20,\n",
    "            fill_mode=\"nearest\"\n",
    "        ).flow_from_directory(\n",
    "            trainDataPath,\n",
    "            target_size=img_size,\n",
    "            batch_size=batchSize,\n",
    "            class_mode= classMode\n",
    "        )\n",
    "        return trainData\n",
    "    elif type == 'test':\n",
    "        testData = generator.flow_from_directory(\n",
    "            testDataPath,\n",
    "            target_size=img_size,\n",
    "            batch_size=batchSize,\n",
    "            class_mode= classMode\n",
    "        )\n",
    "        return testData\n",
    "    elif type == 'valid' :\n",
    "        validData = generator.flow_from_directory(\n",
    "            validationDataPath,\n",
    "            target_size=img_size,\n",
    "            batch_size=batchSize,\n",
    "            class_mode= None,\n",
    "            shuffle=False\n",
    "        )\n",
    "        return validData\n",
    "\n"
   ]
  },
  {
   "attachments": {},
   "cell_type": "markdown",
   "metadata": {},
   "source": [
    "# Define the Model"
   ]
  },
  {
   "cell_type": "code",
   "execution_count": null,
   "metadata": {},
   "outputs": [],
   "source": [
    "model = tf.keras.models.Sequential([\n",
    "    tf.keras.layers.Conv2D(32, (3, 3), activation='relu', input_shape=(128, 128, 3)), # Layer 1\n",
    "    tf.keras.layers.MaxPooling2D((2, 2)),\n",
    "    tf.keras.layers.Dropout(0.5),\n",
    "    tf.keras.layers.Conv2D(64, (3, 3), activation='relu'), # Layer 2\n",
    "    tf.keras.layers.MaxPooling2D((2, 2)),\n",
    "    tf.keras.layers.Dropout(0.5),\n",
    "    tf.keras.layers.Conv2D(128, (3, 3), activation='relu'), # Layer 3\n",
    "    tf.keras.layers.MaxPooling2D((2, 2)),\n",
    "    tf.keras.layers.Dropout(0.5),\n",
    "    tf.keras.layers.Flatten(), # Full c. layer\n",
    "    tf.keras.layers.Dense(128, activation='relu'),\n",
    "    tf.keras.layers.Dense(10, activation='softmax')\n",
    "])"
   ]
  },
  {
   "attachments": {},
   "cell_type": "markdown",
   "metadata": {},
   "source": [
    "# Compile the model"
   ]
  },
  {
   "cell_type": "code",
   "execution_count": null,
   "metadata": {},
   "outputs": [],
   "source": [
    "model.compile(optimizer='adam',\n",
    "              loss='categorical_crossentropy',\n",
    "              metrics=['accuracy'])"
   ]
  },
  {
   "attachments": {},
   "cell_type": "markdown",
   "metadata": {},
   "source": [
    "# Kfold Functions Define"
   ]
  },
  {
   "cell_type": "code",
   "execution_count": null,
   "metadata": {},
   "outputs": [],
   "source": [
    "def move(src,des,spiltRate):\n",
    "    srcFiles = listdir(src)\n",
    "    if(len(srcFiles) != 0):\n",
    "        numberOfTransfer = int(len(srcFiles)*spiltRate)\n",
    "        transferIndex = random.sample(range(0,len(srcFiles)),numberOfTransfer)\n",
    "        for index in transferIndex :\n",
    "            shutil.move(path.join(src,str(srcFiles[index])),\n",
    "                        path.join(des,str(srcFiles[index])))\n",
    "    else:\n",
    "        print(\"No file move\")\n",
    "\n",
    "def moveClass(src=trainDataPath,des=validationDataPath,spiltRate=0.2):\n",
    "    for label in classficationLabels:\n",
    "        move(path.join(src,label),\n",
    "             path.join(des,label),\n",
    "             spiltRate\n",
    "            )\n",
    "        \n",
    "def fillArr():\n",
    "    X=[]\n",
    "    Y=[]\n",
    "    for folder in classficationLabels:\n",
    "        srcFiles = listdir(path.join(trainDataPath,folder))\n",
    "        yLabel = 0\n",
    "        for i in range(len(classficationLabels)):\n",
    "            if(folder == classficationLabels[i]):\n",
    "                yLabel = i\n",
    "        for imageName in srcFiles:\n",
    "            X.append(imageName)\n",
    "            Y.append(yLabel)\n",
    "    X = np.asarray(X)\n",
    "    Y = np.asarray(Y)\n",
    "    return X,Y\n",
    "\n",
    "def meansure(anwser,predict):\n",
    "    accuracy = accuracy_score(anwser,predict)\n",
    "    precision = precision_score(anwser,predict,average='weighted')\n",
    "    f1 = f1_score(anwser,predict,average='weighted')\n",
    "    print(\"Accuracy : %d\\nPrecision : %d\\nf1Score : %d\\n\" %(accuracy,precision,f1))\n",
    "    confusionMatrix = confusion_matrix(anwser,predict)\n",
    "    print(\"Confusion_Matrix : \\n{}\".format(confusionMatrix))\n",
    "    return accuracy,precision,f1\n"
   ]
  },
  {
   "attachments": {},
   "cell_type": "markdown",
   "metadata": {},
   "source": [
    "# Kfold"
   ]
  },
  {
   "cell_type": "code",
   "execution_count": null,
   "metadata": {},
   "outputs": [],
   "source": [
    "moveClass(validationDataPath,trainDataPath,1.0)\n",
    "arrX,arrY = fillArr()\n",
    "fold = StratifiedKFold(n_splits=4,shuffle=True)\n",
    "fold.get_n_splits(arrX,arrY)\n",
    "foldIndex = 0\n",
    "res\n",
    "results = []\n",
    "for trainIndex,labelIndex in fold.split(arrX,arrY):\n",
    "    moveClass()\n",
    "    foldIndex += 1\n",
    "    print(\"Fold :\",foldIndex)\n",
    "    xTrain,xValue = arrX[trainIndex],arrX[labelIndex]\n",
    "    yTrain,yValue = arrY[trainIndex],arrY[labelIndex]\n",
    "    trainData = loadData('train')\n",
    "    validData = loadData('valid')\n",
    "    result = model.fit(\n",
    "        trainData,\n",
    "        epochs=1,\n",
    "        verbose=1)\n",
    "    predictions = model.predict(validData,verbose=0)\n",
    "    print(predictions)\n",
    "    y_predictions = np.argmax(predictions,axis=1)\n",
    "    trueClasses = validData.classes\n",
    "    moveClass(validationDataPath,trainDataPath,1.0)\n",
    "    print(\"Result : \")\n",
    "    acc,pre,f1 = meansure(trueClasses,y_predictions)\n",
    "    results['acc'].append(acc)\n",
    "    results['pre'].append(pre)\n",
    "    results['f1'].append(f1)\n",
    "\n",
    "for i in range(4):\n",
    "    print(\"Fold : \",i)\n",
    "    for k,v in results.items():\n",
    "        print(\"Accuracy:\",acc[i])\n",
    "        print(\"Precision:\",pre[i])\n",
    "        print(\"f1-Score:\",f1[i])"
   ]
  },
  {
   "cell_type": "code",
   "execution_count": null,
   "metadata": {},
   "outputs": [],
   "source": [
    "# model.save(filepath='/home/result.h5')\n"
   ]
  }
 ],
 "metadata": {
  "kernelspec": {
   "display_name": "Python 3 (ipykernel)",
   "language": "python",
   "name": "python3"
  },
  "language_info": {
   "codemirror_mode": {
    "name": "ipython",
    "version": 3
   },
   "file_extension": ".py",
   "mimetype": "text/x-python",
   "name": "python",
   "nbconvert_exporter": "python",
   "pygments_lexer": "ipython3",
   "version": "3.8.10"
  },
  "orig_nbformat": 4
 },
 "nbformat": 4,
 "nbformat_minor": 2
}
