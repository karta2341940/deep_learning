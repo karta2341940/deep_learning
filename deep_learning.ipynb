{
 "cells": [
  {
   "attachments": {},
   "cell_type": "markdown",
   "metadata": {},
   "source": [
    "# HomeWork"
   ]
  },
  {
   "cell_type": "code",
   "execution_count": 1,
   "metadata": {},
   "outputs": [
    {
     "name": "stderr",
     "output_type": "stream",
     "text": [
      "2023-05-07 17:19:03.927105: I tensorflow/core/platform/cpu_feature_guard.cc:182] This TensorFlow binary is optimized to use available CPU instructions in performance-critical operations.\n",
      "To enable the following instructions: AVX2 FMA, in other operations, rebuild TensorFlow with the appropriate compiler flags.\n"
     ]
    }
   ],
   "source": [
    "import tensorflow as tf"
   ]
  },
  {
   "cell_type": "code",
   "execution_count": 2,
   "metadata": {},
   "outputs": [],
   "source": [
    "img_size=(128,128)\n",
    "train_data = tf.keras.preprocessing.image.ImageDataGenerator(rescale=1./255)\n",
    "test_data = tf.keras.preprocessing.image.ImageDataGenerator(rescale=1./255)"
   ]
  },
  {
   "attachments": {},
   "cell_type": "markdown",
   "metadata": {},
   "source": [
    "# Load the data"
   ]
  },
  {
   "cell_type": "code",
   "execution_count": 3,
   "metadata": {},
   "outputs": [
    {
     "name": "stdout",
     "output_type": "stream",
     "text": [
      "Found 1000 images belonging to 10 classes.\n",
      "Found 500 images belonging to 10 classes.\n"
     ]
    }
   ],
   "source": [
    "\n",
    "train_gen = train_data.flow_from_directory(\n",
    "    \"/home/train\",\n",
    "    target_size=img_size,\n",
    "    batch_size=32,\n",
    "    class_mode='categorical'\n",
    ")\n",
    "test_gen = train_data.flow_from_directory(\n",
    "    \"/home/test\",\n",
    "    target_size=img_size,\n",
    "    batch_size=32,\n",
    "    class_mode='categorical'\n",
    ")"
   ]
  },
  {
   "attachments": {},
   "cell_type": "markdown",
   "metadata": {},
   "source": [
    "# Define the Model"
   ]
  },
  {
   "cell_type": "code",
   "execution_count": 4,
   "metadata": {},
   "outputs": [
    {
     "name": "stderr",
     "output_type": "stream",
     "text": [
      "2023-05-07 17:19:06.677783: I tensorflow/compiler/xla/stream_executor/cuda/cuda_gpu_executor.cc:982] could not open file to read NUMA node: /sys/bus/pci/devices/0000:1c:00.0/numa_node\n",
      "Your kernel may have been built without NUMA support.\n",
      "2023-05-07 17:19:06.685312: I tensorflow/compiler/xla/stream_executor/cuda/cuda_gpu_executor.cc:982] could not open file to read NUMA node: /sys/bus/pci/devices/0000:1c:00.0/numa_node\n",
      "Your kernel may have been built without NUMA support.\n",
      "2023-05-07 17:19:06.685650: I tensorflow/compiler/xla/stream_executor/cuda/cuda_gpu_executor.cc:982] could not open file to read NUMA node: /sys/bus/pci/devices/0000:1c:00.0/numa_node\n",
      "Your kernel may have been built without NUMA support.\n",
      "2023-05-07 17:19:06.687894: I tensorflow/compiler/xla/stream_executor/cuda/cuda_gpu_executor.cc:982] could not open file to read NUMA node: /sys/bus/pci/devices/0000:1c:00.0/numa_node\n",
      "Your kernel may have been built without NUMA support.\n",
      "2023-05-07 17:19:06.688479: I tensorflow/compiler/xla/stream_executor/cuda/cuda_gpu_executor.cc:982] could not open file to read NUMA node: /sys/bus/pci/devices/0000:1c:00.0/numa_node\n",
      "Your kernel may have been built without NUMA support.\n",
      "2023-05-07 17:19:06.688823: I tensorflow/compiler/xla/stream_executor/cuda/cuda_gpu_executor.cc:982] could not open file to read NUMA node: /sys/bus/pci/devices/0000:1c:00.0/numa_node\n",
      "Your kernel may have been built without NUMA support.\n",
      "2023-05-07 17:19:08.756384: I tensorflow/compiler/xla/stream_executor/cuda/cuda_gpu_executor.cc:982] could not open file to read NUMA node: /sys/bus/pci/devices/0000:1c:00.0/numa_node\n",
      "Your kernel may have been built without NUMA support.\n",
      "2023-05-07 17:19:08.756716: I tensorflow/compiler/xla/stream_executor/cuda/cuda_gpu_executor.cc:982] could not open file to read NUMA node: /sys/bus/pci/devices/0000:1c:00.0/numa_node\n",
      "Your kernel may have been built without NUMA support.\n",
      "2023-05-07 17:19:08.756733: I tensorflow/core/common_runtime/gpu/gpu_device.cc:1722] Could not identify NUMA node of platform GPU id 0, defaulting to 0.  Your kernel may not have been built with NUMA support.\n",
      "2023-05-07 17:19:08.756968: I tensorflow/compiler/xla/stream_executor/cuda/cuda_gpu_executor.cc:982] could not open file to read NUMA node: /sys/bus/pci/devices/0000:1c:00.0/numa_node\n",
      "Your kernel may have been built without NUMA support.\n",
      "2023-05-07 17:19:08.757013: I tensorflow/core/common_runtime/gpu/gpu_device.cc:1635] Created device /job:localhost/replica:0/task:0/device:GPU:0 with 1812 MB memory:  -> device: 0, name: NVIDIA GeForce GTX 1060 3GB, pci bus id: 0000:1c:00.0, compute capability: 6.1\n"
     ]
    }
   ],
   "source": [
    "model = tf.keras.models.Sequential([\n",
    "    tf.keras.layers.Conv2D(32, (3, 3), activation='relu', input_shape=(128, 128, 3)), # Layer 1\n",
    "    tf.keras.layers.MaxPooling2D((2, 2)),\n",
    "    tf.keras.layers.Dropout(0.5),\n",
    "    tf.keras.layers.Conv2D(64, (3, 3), activation='relu'), # Layer 2\n",
    "    tf.keras.layers.MaxPooling2D((2, 2)),\n",
    "    tf.keras.layers.Dropout(0.5),\n",
    "    tf.keras.layers.Conv2D(128, (3, 3), activation='relu'), # Layer 3\n",
    "    tf.keras.layers.MaxPooling2D((2, 2)),\n",
    "    tf.keras.layers.Dropout(0.5),\n",
    "    tf.keras.layers.Flatten(), # Full c. layer\n",
    "    tf.keras.layers.Dense(128, activation='relu'),\n",
    "    tf.keras.layers.Dense(10, activation='softmax')\n",
    "])"
   ]
  },
  {
   "attachments": {},
   "cell_type": "markdown",
   "metadata": {},
   "source": [
    "# Compile the model"
   ]
  },
  {
   "cell_type": "code",
   "execution_count": 5,
   "metadata": {},
   "outputs": [],
   "source": [
    "model.compile(optimizer='adam',\n",
    "              loss='categorical_crossentropy',\n",
    "              metrics=['accuracy'])"
   ]
  },
  {
   "attachments": {},
   "cell_type": "markdown",
   "metadata": {},
   "source": [
    "# Train The Model"
   ]
  },
  {
   "cell_type": "code",
   "execution_count": 6,
   "metadata": {},
   "outputs": [
    {
     "name": "stdout",
     "output_type": "stream",
     "text": [
      "Epoch 1/100\n"
     ]
    },
    {
     "name": "stderr",
     "output_type": "stream",
     "text": [
      "2023-05-07 17:19:09.375326: I tensorflow/core/common_runtime/executor.cc:1197] [/device:CPU:0] (DEBUG INFO) Executor start aborting (this does not indicate an error and you can ignore this message): INVALID_ARGUMENT: You must feed a value for placeholder tensor 'Placeholder/_0' with dtype int32\n",
      "\t [[{{node Placeholder/_0}}]]\n",
      "2023-05-07 17:19:10.499411: E tensorflow/core/grappler/optimizers/meta_optimizer.cc:954] layout failed: INVALID_ARGUMENT: Size of values 0 does not match size of permutation 4 @ fanin shape insequential/dropout/dropout/SelectV2-2-TransposeNHWCToNCHW-LayoutOptimizer\n",
      "2023-05-07 17:19:11.939530: I tensorflow/compiler/xla/stream_executor/cuda/cuda_dnn.cc:424] Loaded cuDNN version 8600\n",
      "2023-05-07 17:19:13.116194: I tensorflow/compiler/xla/service/service.cc:169] XLA service 0x7f8374003ba0 initialized for platform CUDA (this does not guarantee that XLA will be used). Devices:\n",
      "2023-05-07 17:19:13.116263: I tensorflow/compiler/xla/service/service.cc:177]   StreamExecutor device (0): NVIDIA GeForce GTX 1060 3GB, Compute Capability 6.1\n",
      "2023-05-07 17:19:13.122343: I tensorflow/compiler/mlir/tensorflow/utils/dump_mlir_util.cc:269] disabling MLIR crash reproducer, set env var `MLIR_CRASH_REPRODUCER_DIRECTORY` to enable.\n",
      "2023-05-07 17:19:13.311528: I ./tensorflow/compiler/jit/device_compiler.h:180] Compiled cluster using XLA!  This line is logged at most once for the lifetime of the process.\n"
     ]
    },
    {
     "name": "stdout",
     "output_type": "stream",
     "text": [
      "32/31 [==============================] - ETA: 0s - loss: 2.4511 - accuracy: 0.1140"
     ]
    },
    {
     "name": "stderr",
     "output_type": "stream",
     "text": [
      "2023-05-07 17:19:20.767791: I tensorflow/core/common_runtime/executor.cc:1197] [/device:CPU:0] (DEBUG INFO) Executor start aborting (this does not indicate an error and you can ignore this message): INVALID_ARGUMENT: You must feed a value for placeholder tensor 'Placeholder/_0' with dtype int32\n",
      "\t [[{{node Placeholder/_0}}]]\n"
     ]
    },
    {
     "name": "stdout",
     "output_type": "stream",
     "text": [
      "31/31 [==============================] - 14s 259ms/step - loss: 2.4511 - accuracy: 0.1140 - val_loss: 2.2945 - val_accuracy: 0.1260\n",
      "Epoch 2/100\n",
      "31/31 [==============================] - 7s 226ms/step - loss: 2.1052 - accuracy: 0.2370 - val_loss: 1.9369 - val_accuracy: 0.3160\n",
      "Epoch 3/100\n",
      "31/31 [==============================] - 7s 229ms/step - loss: 1.6598 - accuracy: 0.4300 - val_loss: 1.8346 - val_accuracy: 0.5880\n",
      "Epoch 4/100\n",
      "31/31 [==============================] - 7s 228ms/step - loss: 1.2525 - accuracy: 0.6230 - val_loss: 1.3035 - val_accuracy: 0.6980\n",
      "Epoch 5/100\n",
      "31/31 [==============================] - 8s 241ms/step - loss: 0.7784 - accuracy: 0.7770 - val_loss: 1.0072 - val_accuracy: 0.6920\n",
      "Epoch 6/100\n",
      "31/31 [==============================] - 7s 232ms/step - loss: 0.6234 - accuracy: 0.8120 - val_loss: 0.9755 - val_accuracy: 0.7320\n",
      "Epoch 7/100\n",
      "31/31 [==============================] - 7s 229ms/step - loss: 0.4775 - accuracy: 0.8630 - val_loss: 0.7926 - val_accuracy: 0.8280\n",
      "Epoch 8/100\n",
      "31/31 [==============================] - 7s 227ms/step - loss: 0.3682 - accuracy: 0.8790 - val_loss: 0.6877 - val_accuracy: 0.8720\n",
      "Epoch 9/100\n",
      "31/31 [==============================] - 7s 226ms/step - loss: 0.3047 - accuracy: 0.8940 - val_loss: 0.6540 - val_accuracy: 0.8640\n",
      "Epoch 10/100\n",
      "31/31 [==============================] - 7s 226ms/step - loss: 0.3323 - accuracy: 0.8840 - val_loss: 0.6876 - val_accuracy: 0.8480\n",
      "Epoch 11/100\n",
      "31/31 [==============================] - 7s 226ms/step - loss: 0.2676 - accuracy: 0.9110 - val_loss: 0.6993 - val_accuracy: 0.8420\n",
      "Epoch 12/100\n",
      "31/31 [==============================] - 7s 224ms/step - loss: 0.2761 - accuracy: 0.9250 - val_loss: 0.5760 - val_accuracy: 0.8860\n",
      "Epoch 13/100\n",
      "31/31 [==============================] - 7s 232ms/step - loss: 0.2241 - accuracy: 0.9290 - val_loss: 0.7205 - val_accuracy: 0.8420\n",
      "Epoch 14/100\n",
      "31/31 [==============================] - 7s 222ms/step - loss: 0.1955 - accuracy: 0.9400 - val_loss: 0.5571 - val_accuracy: 0.8740\n",
      "Epoch 15/100\n",
      "31/31 [==============================] - 7s 228ms/step - loss: 0.1775 - accuracy: 0.9470 - val_loss: 0.5153 - val_accuracy: 0.8760\n",
      "Epoch 16/100\n",
      "31/31 [==============================] - 7s 225ms/step - loss: 0.1547 - accuracy: 0.9480 - val_loss: 0.6852 - val_accuracy: 0.8580\n",
      "Epoch 17/100\n",
      "31/31 [==============================] - 7s 228ms/step - loss: 0.1501 - accuracy: 0.9550 - val_loss: 0.5394 - val_accuracy: 0.9020\n",
      "Epoch 18/100\n",
      "31/31 [==============================] - 7s 234ms/step - loss: 0.1363 - accuracy: 0.9510 - val_loss: 0.6201 - val_accuracy: 0.8640\n",
      "Epoch 19/100\n",
      "31/31 [==============================] - 7s 228ms/step - loss: 0.1219 - accuracy: 0.9620 - val_loss: 0.6389 - val_accuracy: 0.8540\n",
      "Epoch 20/100\n",
      "31/31 [==============================] - 8s 247ms/step - loss: 0.0839 - accuracy: 0.9710 - val_loss: 0.6334 - val_accuracy: 0.8860\n",
      "Epoch 21/100\n",
      "31/31 [==============================] - 7s 230ms/step - loss: 0.0809 - accuracy: 0.9800 - val_loss: 0.5943 - val_accuracy: 0.8860\n",
      "Epoch 22/100\n",
      "31/31 [==============================] - 7s 232ms/step - loss: 0.0968 - accuracy: 0.9660 - val_loss: 0.5831 - val_accuracy: 0.8820\n",
      "Epoch 23/100\n",
      "31/31 [==============================] - 7s 229ms/step - loss: 0.0941 - accuracy: 0.9660 - val_loss: 0.6373 - val_accuracy: 0.8740\n",
      "Epoch 24/100\n",
      "31/31 [==============================] - 7s 227ms/step - loss: 0.0688 - accuracy: 0.9790 - val_loss: 0.5462 - val_accuracy: 0.8960\n",
      "Epoch 25/100\n",
      "31/31 [==============================] - 7s 232ms/step - loss: 0.0559 - accuracy: 0.9810 - val_loss: 0.6388 - val_accuracy: 0.8780\n",
      "Epoch 26/100\n",
      "31/31 [==============================] - 7s 226ms/step - loss: 0.0507 - accuracy: 0.9840 - val_loss: 0.6492 - val_accuracy: 0.8860\n",
      "Epoch 27/100\n",
      "31/31 [==============================] - 7s 228ms/step - loss: 0.0565 - accuracy: 0.9830 - val_loss: 0.6598 - val_accuracy: 0.8600\n",
      "Epoch 28/100\n",
      "31/31 [==============================] - 7s 230ms/step - loss: 0.0927 - accuracy: 0.9700 - val_loss: 0.6437 - val_accuracy: 0.8980\n",
      "Epoch 29/100\n",
      "31/31 [==============================] - 7s 227ms/step - loss: 0.0885 - accuracy: 0.9740 - val_loss: 0.6197 - val_accuracy: 0.8840\n",
      "Epoch 30/100\n",
      "31/31 [==============================] - 7s 228ms/step - loss: 0.0693 - accuracy: 0.9760 - val_loss: 0.5222 - val_accuracy: 0.9060\n",
      "Epoch 31/100\n",
      "31/31 [==============================] - 7s 226ms/step - loss: 0.0733 - accuracy: 0.9800 - val_loss: 0.6746 - val_accuracy: 0.8500\n",
      "Epoch 32/100\n",
      "31/31 [==============================] - 7s 226ms/step - loss: 0.0637 - accuracy: 0.9760 - val_loss: 0.5459 - val_accuracy: 0.9060\n",
      "Epoch 33/100\n",
      "31/31 [==============================] - 7s 226ms/step - loss: 0.0732 - accuracy: 0.9810 - val_loss: 0.5567 - val_accuracy: 0.8980\n",
      "Epoch 34/100\n",
      "31/31 [==============================] - 7s 227ms/step - loss: 0.0723 - accuracy: 0.9810 - val_loss: 0.5562 - val_accuracy: 0.8740\n",
      "Epoch 35/100\n",
      "31/31 [==============================] - 7s 228ms/step - loss: 0.0479 - accuracy: 0.9850 - val_loss: 0.4646 - val_accuracy: 0.8860\n",
      "Epoch 36/100\n",
      "31/31 [==============================] - 7s 229ms/step - loss: 0.0437 - accuracy: 0.9840 - val_loss: 0.6075 - val_accuracy: 0.8720\n",
      "Epoch 37/100\n",
      "31/31 [==============================] - 7s 232ms/step - loss: 0.0165 - accuracy: 0.9970 - val_loss: 0.5411 - val_accuracy: 0.9020\n",
      "Epoch 38/100\n",
      "31/31 [==============================] - 8s 240ms/step - loss: 0.0174 - accuracy: 0.9960 - val_loss: 0.5600 - val_accuracy: 0.8920\n",
      "Epoch 39/100\n",
      "31/31 [==============================] - 7s 228ms/step - loss: 0.0172 - accuracy: 0.9940 - val_loss: 0.6101 - val_accuracy: 0.8880\n",
      "Epoch 40/100\n",
      "31/31 [==============================] - 7s 227ms/step - loss: 0.0103 - accuracy: 0.9990 - val_loss: 0.5977 - val_accuracy: 0.8880\n",
      "Epoch 41/100\n",
      "31/31 [==============================] - 7s 226ms/step - loss: 0.0200 - accuracy: 0.9950 - val_loss: 0.5706 - val_accuracy: 0.9020\n",
      "Epoch 42/100\n",
      "31/31 [==============================] - 7s 227ms/step - loss: 0.0180 - accuracy: 0.9940 - val_loss: 0.7149 - val_accuracy: 0.8860\n",
      "Epoch 43/100\n",
      "31/31 [==============================] - 7s 228ms/step - loss: 0.0354 - accuracy: 0.9900 - val_loss: 0.6174 - val_accuracy: 0.8740\n",
      "Epoch 44/100\n",
      "31/31 [==============================] - 7s 228ms/step - loss: 0.0301 - accuracy: 0.9880 - val_loss: 0.6064 - val_accuracy: 0.8920\n",
      "Epoch 45/100\n",
      "31/31 [==============================] - 7s 230ms/step - loss: 0.0178 - accuracy: 0.9950 - val_loss: 0.6388 - val_accuracy: 0.9020\n",
      "Epoch 46/100\n",
      "31/31 [==============================] - 7s 225ms/step - loss: 0.0173 - accuracy: 0.9940 - val_loss: 0.6684 - val_accuracy: 0.8760\n",
      "Epoch 47/100\n",
      "31/31 [==============================] - 7s 231ms/step - loss: 0.0217 - accuracy: 0.9930 - val_loss: 0.5788 - val_accuracy: 0.8820\n",
      "Epoch 48/100\n",
      "31/31 [==============================] - 7s 227ms/step - loss: 0.0209 - accuracy: 0.9960 - val_loss: 0.6637 - val_accuracy: 0.8700\n",
      "Epoch 49/100\n",
      "31/31 [==============================] - 7s 226ms/step - loss: 0.0415 - accuracy: 0.9850 - val_loss: 0.6656 - val_accuracy: 0.8780\n",
      "Epoch 50/100\n",
      "31/31 [==============================] - 7s 230ms/step - loss: 0.0427 - accuracy: 0.9850 - val_loss: 0.5142 - val_accuracy: 0.8920\n",
      "Epoch 51/100\n",
      "31/31 [==============================] - 7s 224ms/step - loss: 0.0386 - accuracy: 0.9890 - val_loss: 0.6396 - val_accuracy: 0.8840\n",
      "Epoch 52/100\n",
      "31/31 [==============================] - 7s 227ms/step - loss: 0.0150 - accuracy: 0.9960 - val_loss: 0.6037 - val_accuracy: 0.8820\n",
      "Epoch 53/100\n",
      "31/31 [==============================] - 7s 228ms/step - loss: 0.0126 - accuracy: 0.9960 - val_loss: 0.6390 - val_accuracy: 0.9120\n",
      "Epoch 54/100\n",
      "31/31 [==============================] - 7s 229ms/step - loss: 0.0354 - accuracy: 0.9880 - val_loss: 0.6466 - val_accuracy: 0.8960\n",
      "Epoch 55/100\n",
      "31/31 [==============================] - 7s 231ms/step - loss: 0.0149 - accuracy: 0.9940 - val_loss: 0.6433 - val_accuracy: 0.8900\n",
      "Epoch 56/100\n",
      "31/31 [==============================] - 7s 226ms/step - loss: 0.0061 - accuracy: 1.0000 - val_loss: 0.6666 - val_accuracy: 0.8940\n",
      "Epoch 57/100\n",
      "31/31 [==============================] - 7s 228ms/step - loss: 0.0048 - accuracy: 0.9980 - val_loss: 0.7466 - val_accuracy: 0.9020\n",
      "Epoch 58/100\n",
      "31/31 [==============================] - 7s 230ms/step - loss: 0.0199 - accuracy: 0.9940 - val_loss: 0.6618 - val_accuracy: 0.8920\n",
      "Epoch 59/100\n",
      "31/31 [==============================] - 7s 226ms/step - loss: 0.0339 - accuracy: 0.9910 - val_loss: 0.6577 - val_accuracy: 0.8960\n",
      "Epoch 60/100\n",
      "31/31 [==============================] - 7s 229ms/step - loss: 0.0145 - accuracy: 0.9950 - val_loss: 0.5977 - val_accuracy: 0.9160\n",
      "Epoch 61/100\n",
      "31/31 [==============================] - 7s 229ms/step - loss: 0.0181 - accuracy: 0.9940 - val_loss: 0.6672 - val_accuracy: 0.8960\n",
      "Epoch 62/100\n",
      "31/31 [==============================] - 7s 228ms/step - loss: 0.0385 - accuracy: 0.9880 - val_loss: 0.7522 - val_accuracy: 0.8760\n",
      "Epoch 63/100\n",
      "31/31 [==============================] - 7s 229ms/step - loss: 0.0280 - accuracy: 0.9920 - val_loss: 0.6746 - val_accuracy: 0.8660\n",
      "Epoch 64/100\n",
      "31/31 [==============================] - 7s 231ms/step - loss: 0.0152 - accuracy: 0.9940 - val_loss: 0.7039 - val_accuracy: 0.8820\n",
      "Epoch 65/100\n",
      "31/31 [==============================] - 7s 232ms/step - loss: 0.0139 - accuracy: 0.9960 - val_loss: 0.7451 - val_accuracy: 0.8920\n",
      "Epoch 66/100\n",
      "31/31 [==============================] - 7s 231ms/step - loss: 0.0230 - accuracy: 0.9920 - val_loss: 0.7477 - val_accuracy: 0.8640\n",
      "Epoch 67/100\n",
      "31/31 [==============================] - 7s 226ms/step - loss: 0.0206 - accuracy: 0.9950 - val_loss: 0.8504 - val_accuracy: 0.8840\n",
      "Epoch 68/100\n",
      "31/31 [==============================] - 7s 227ms/step - loss: 0.0522 - accuracy: 0.9890 - val_loss: 0.8123 - val_accuracy: 0.8800\n",
      "Epoch 69/100\n",
      "31/31 [==============================] - 7s 224ms/step - loss: 0.0351 - accuracy: 0.9890 - val_loss: 0.7881 - val_accuracy: 0.8760\n",
      "Epoch 70/100\n",
      "31/31 [==============================] - 7s 229ms/step - loss: 0.0177 - accuracy: 0.9960 - val_loss: 0.7698 - val_accuracy: 0.8880\n",
      "Epoch 71/100\n",
      "31/31 [==============================] - 7s 230ms/step - loss: 0.0141 - accuracy: 0.9950 - val_loss: 0.8332 - val_accuracy: 0.8960\n",
      "Epoch 72/100\n",
      "31/31 [==============================] - 7s 234ms/step - loss: 0.0082 - accuracy: 0.9960 - val_loss: 0.8188 - val_accuracy: 0.8960\n",
      "Epoch 73/100\n",
      "31/31 [==============================] - 7s 228ms/step - loss: 0.0042 - accuracy: 1.0000 - val_loss: 0.7757 - val_accuracy: 0.8940\n",
      "Epoch 74/100\n",
      "31/31 [==============================] - 7s 229ms/step - loss: 0.0115 - accuracy: 0.9970 - val_loss: 0.7472 - val_accuracy: 0.8840\n",
      "Epoch 75/100\n",
      "31/31 [==============================] - 7s 229ms/step - loss: 0.0084 - accuracy: 0.9980 - val_loss: 0.7824 - val_accuracy: 0.8920\n",
      "Epoch 76/100\n",
      "31/31 [==============================] - 7s 228ms/step - loss: 0.0083 - accuracy: 0.9960 - val_loss: 0.8829 - val_accuracy: 0.8960\n",
      "Epoch 77/100\n",
      "31/31 [==============================] - 7s 227ms/step - loss: 0.0140 - accuracy: 0.9970 - val_loss: 0.8785 - val_accuracy: 0.8920\n",
      "Epoch 78/100\n",
      "31/31 [==============================] - 7s 227ms/step - loss: 0.0264 - accuracy: 0.9900 - val_loss: 0.7546 - val_accuracy: 0.8860\n",
      "Epoch 79/100\n",
      "31/31 [==============================] - 7s 230ms/step - loss: 0.0226 - accuracy: 0.9910 - val_loss: 1.0278 - val_accuracy: 0.8680\n",
      "Epoch 80/100\n",
      "31/31 [==============================] - 7s 226ms/step - loss: 0.1038 - accuracy: 0.9660 - val_loss: 0.8446 - val_accuracy: 0.8640\n",
      "Epoch 81/100\n",
      "31/31 [==============================] - 7s 235ms/step - loss: 0.0417 - accuracy: 0.9910 - val_loss: 1.0284 - val_accuracy: 0.8840\n",
      "Epoch 82/100\n",
      "31/31 [==============================] - 7s 233ms/step - loss: 0.0152 - accuracy: 0.9940 - val_loss: 0.8400 - val_accuracy: 0.8940\n",
      "Epoch 83/100\n",
      "31/31 [==============================] - 7s 228ms/step - loss: 0.0120 - accuracy: 0.9960 - val_loss: 0.8151 - val_accuracy: 0.8880\n",
      "Epoch 84/100\n",
      "31/31 [==============================] - 7s 231ms/step - loss: 0.0077 - accuracy: 0.9990 - val_loss: 0.8625 - val_accuracy: 0.8860\n",
      "Epoch 85/100\n",
      "31/31 [==============================] - 7s 231ms/step - loss: 0.0118 - accuracy: 0.9950 - val_loss: 0.9671 - val_accuracy: 0.8820\n",
      "Epoch 86/100\n",
      "31/31 [==============================] - 7s 230ms/step - loss: 0.0033 - accuracy: 1.0000 - val_loss: 1.0007 - val_accuracy: 0.8820\n",
      "Epoch 87/100\n",
      "31/31 [==============================] - 7s 227ms/step - loss: 0.0017 - accuracy: 1.0000 - val_loss: 1.0349 - val_accuracy: 0.8880\n",
      "Epoch 88/100\n",
      "31/31 [==============================] - 7s 225ms/step - loss: 0.0377 - accuracy: 0.9870 - val_loss: 0.7555 - val_accuracy: 0.8620\n",
      "Epoch 89/100\n",
      "31/31 [==============================] - 7s 233ms/step - loss: 0.3298 - accuracy: 0.9280 - val_loss: 0.8767 - val_accuracy: 0.8860\n",
      "Epoch 90/100\n",
      "31/31 [==============================] - 7s 227ms/step - loss: 0.1269 - accuracy: 0.9650 - val_loss: 0.7332 - val_accuracy: 0.8440\n",
      "Epoch 91/100\n",
      "31/31 [==============================] - 7s 229ms/step - loss: 0.0451 - accuracy: 0.9870 - val_loss: 0.5352 - val_accuracy: 0.9060\n",
      "Epoch 92/100\n",
      "31/31 [==============================] - 7s 227ms/step - loss: 0.0204 - accuracy: 0.9940 - val_loss: 0.6771 - val_accuracy: 0.8960\n",
      "Epoch 93/100\n",
      "31/31 [==============================] - 7s 227ms/step - loss: 0.0153 - accuracy: 0.9930 - val_loss: 0.6888 - val_accuracy: 0.8940\n",
      "Epoch 94/100\n",
      "31/31 [==============================] - 7s 224ms/step - loss: 0.0072 - accuracy: 0.9970 - val_loss: 0.7326 - val_accuracy: 0.8920\n",
      "Epoch 95/100\n",
      "31/31 [==============================] - 7s 227ms/step - loss: 0.0119 - accuracy: 0.9960 - val_loss: 0.6960 - val_accuracy: 0.9040\n",
      "Epoch 96/100\n",
      "31/31 [==============================] - 7s 229ms/step - loss: 0.0132 - accuracy: 0.9960 - val_loss: 0.7482 - val_accuracy: 0.8920\n",
      "Epoch 97/100\n",
      "31/31 [==============================] - 7s 228ms/step - loss: 0.0130 - accuracy: 0.9970 - val_loss: 0.8730 - val_accuracy: 0.8980\n",
      "Epoch 98/100\n",
      "31/31 [==============================] - 7s 232ms/step - loss: 0.0091 - accuracy: 0.9960 - val_loss: 0.7687 - val_accuracy: 0.8980\n",
      "Epoch 99/100\n",
      "31/31 [==============================] - 7s 229ms/step - loss: 0.0055 - accuracy: 0.9990 - val_loss: 0.8431 - val_accuracy: 0.9000\n",
      "Epoch 100/100\n",
      "31/31 [==============================] - 7s 231ms/step - loss: 0.0071 - accuracy: 0.9970 - val_loss: 0.7237 - val_accuracy: 0.9060\n"
     ]
    }
   ],
   "source": [
    "result = model.fit(\n",
    "      train_gen,\n",
    "      steps_per_epoch=train_gen.samples/train_gen.batch_size,\n",
    "      epochs=100,\n",
    "      validation_data=test_gen,\n",
    "      validation_steps=test_gen.samples/test_gen.batch_size)"
   ]
  },
  {
   "cell_type": "code",
   "execution_count": 7,
   "metadata": {},
   "outputs": [],
   "source": [
    "model.save(filepath='/home/result.h5')\n"
   ]
  },
  {
   "attachments": {},
   "cell_type": "markdown",
   "metadata": {},
   "source": [
    "# Test"
   ]
  },
  {
   "cell_type": "code",
   "execution_count": 10,
   "metadata": {},
   "outputs": [
    {
     "name": "stdout",
     "output_type": "stream",
     "text": [
      "1/1 [==============================] - 0s 157ms/step\n",
      "[7]\n",
      "The result is : insect\n"
     ]
    }
   ],
   "source": [
    "import tensorflow as tf\n",
    "import numpy as np\n",
    "from PIL import Image\n",
    "# 載入整個模型\n",
    "loaded_model = tf.keras.models.load_model('/home/result.h5')\n",
    "# 測試一張圖片\n",
    "\n",
    "\n",
    "img = tf.keras.preprocessing.image.load_img(\"/home/train/sliver/1014629_13163.png\",target_size=(128,128))\n",
    "img_array = np.array(img)\n",
    "img_array = np.expand_dims(img_array, axis=0)\n",
    "\n",
    "\n",
    "result = loaded_model.predict(img_array)\n",
    "\n",
    "classNames = [\"blacklinewide\",\"bulge\",\"dent\",\"edge\",\"fold\",\"hi\",\"hole\",\"insect\",\"sliver\",\"weldpoint\",\"whitelinewide\"]\n",
    "classId = np.argmax(result,axis=1)\n",
    "print(classId)\n",
    "print(\"The result is :\",classNames[int(classId)])"
   ]
  }
 ],
 "metadata": {
  "kernelspec": {
   "display_name": "Python 3 (ipykernel)",
   "language": "python",
   "name": "python3"
  },
  "language_info": {
   "codemirror_mode": {
    "name": "ipython",
    "version": 3
   },
   "file_extension": ".py",
   "mimetype": "text/x-python",
   "name": "python",
   "nbconvert_exporter": "python",
   "pygments_lexer": "ipython3",
   "version": "3.8.10"
  },
  "orig_nbformat": 4
 },
 "nbformat": 4,
 "nbformat_minor": 2
}
