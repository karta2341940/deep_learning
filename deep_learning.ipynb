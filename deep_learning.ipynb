{
 "cells": [
  {
   "attachments": {},
   "cell_type": "markdown",
   "metadata": {},
   "source": [
    "# HomeWork"
   ]
  },
  {
   "cell_type": "code",
   "execution_count": 1,
   "metadata": {},
   "outputs": [
    {
     "name": "stderr",
     "output_type": "stream",
     "text": [
      "2023-06-13 15:12:14.324248: I tensorflow/core/platform/cpu_feature_guard.cc:182] This TensorFlow binary is optimized to use available CPU instructions in performance-critical operations.\n",
      "To enable the following instructions: AVX2 FMA, in other operations, rebuild TensorFlow with the appropriate compiler flags.\n"
     ]
    }
   ],
   "source": [
    "import tensorflow as tf\n",
    "from sklearn.model_selection import KFold,StratifiedKFold\n",
    "from sklearn.metrics import accuracy_score, f1_score, precision_score, confusion_matrix\n",
    "import numpy as np\n",
    "from os import listdir,path\n",
    "import random\n",
    "import shutil"
   ]
  },
  {
   "attachments": {},
   "cell_type": "markdown",
   "metadata": {},
   "source": [
    "# Variables Declare"
   ]
  },
  {
   "cell_type": "code",
   "execution_count": 2,
   "metadata": {},
   "outputs": [],
   "source": [
    "img_size=(128,128)\n",
    "generator = tf.keras.preprocessing.image.ImageDataGenerator(rescale=1./255)\n",
    "trainDataPath = '/home/train'\n",
    "testDataPath = '/home/test'\n",
    "validationDataPath = '/home/validation'\n",
    "batchSize = 32\n",
    "classMode = 'categorical'\n",
    "classficationLabels = listdir(trainDataPath)\n",
    "arrX = []\n",
    "arrY = []\n",
    "datasetFolderName = path.join('')\n",
    "trainData = None\n",
    "testData = None\n",
    "validData = None"
   ]
  },
  {
   "attachments": {},
   "cell_type": "markdown",
   "metadata": {},
   "source": [
    "# Load the data"
   ]
  },
  {
   "cell_type": "code",
   "execution_count": 3,
   "metadata": {},
   "outputs": [],
   "source": [
    "def loadData(type):\n",
    "    if type == 'train':\n",
    "        \n",
    "        trainData = tf.keras.preprocessing.image.ImageDataGenerator(\n",
    "            rescale=1./255,\n",
    "            zoom_range=0.20,\n",
    "            fill_mode=\"nearest\"\n",
    "        ).flow_from_directory(\n",
    "            trainDataPath,\n",
    "            target_size=img_size,\n",
    "            batch_size=batchSize,\n",
    "            class_mode= classMode\n",
    "        )\n",
    "        return trainData\n",
    "    elif type == 'test':\n",
    "        testData = generator.flow_from_directory(\n",
    "            testDataPath,\n",
    "            target_size=img_size,\n",
    "            batch_size=batchSize,\n",
    "            class_mode= classMode\n",
    "        )\n",
    "        return testData\n",
    "    elif type == 'valid' :\n",
    "        validData = generator.flow_from_directory(\n",
    "            validationDataPath,\n",
    "            target_size=img_size,\n",
    "            batch_size=batchSize,\n",
    "            class_mode= None,\n",
    "            shuffle=False\n",
    "        )\n",
    "        return validData\n",
    "\n"
   ]
  },
  {
   "attachments": {},
   "cell_type": "markdown",
   "metadata": {},
   "source": [
    "# Define the Model"
   ]
  },
  {
   "cell_type": "code",
   "execution_count": 4,
   "metadata": {},
   "outputs": [
    {
     "name": "stderr",
     "output_type": "stream",
     "text": [
      "2023-06-13 15:12:20.143534: I tensorflow/compiler/xla/stream_executor/cuda/cuda_gpu_executor.cc:982] could not open file to read NUMA node: /sys/bus/pci/devices/0000:1c:00.0/numa_node\n",
      "Your kernel may have been built without NUMA support.\n",
      "2023-06-13 15:12:20.151380: I tensorflow/compiler/xla/stream_executor/cuda/cuda_gpu_executor.cc:982] could not open file to read NUMA node: /sys/bus/pci/devices/0000:1c:00.0/numa_node\n",
      "Your kernel may have been built without NUMA support.\n",
      "2023-06-13 15:12:20.152500: I tensorflow/compiler/xla/stream_executor/cuda/cuda_gpu_executor.cc:982] could not open file to read NUMA node: /sys/bus/pci/devices/0000:1c:00.0/numa_node\n",
      "Your kernel may have been built without NUMA support.\n",
      "2023-06-13 15:12:20.155400: I tensorflow/compiler/xla/stream_executor/cuda/cuda_gpu_executor.cc:982] could not open file to read NUMA node: /sys/bus/pci/devices/0000:1c:00.0/numa_node\n",
      "Your kernel may have been built without NUMA support.\n",
      "2023-06-13 15:12:20.155956: I tensorflow/compiler/xla/stream_executor/cuda/cuda_gpu_executor.cc:982] could not open file to read NUMA node: /sys/bus/pci/devices/0000:1c:00.0/numa_node\n",
      "Your kernel may have been built without NUMA support.\n",
      "2023-06-13 15:12:20.156439: I tensorflow/compiler/xla/stream_executor/cuda/cuda_gpu_executor.cc:982] could not open file to read NUMA node: /sys/bus/pci/devices/0000:1c:00.0/numa_node\n",
      "Your kernel may have been built without NUMA support.\n",
      "2023-06-13 15:12:22.379622: I tensorflow/compiler/xla/stream_executor/cuda/cuda_gpu_executor.cc:982] could not open file to read NUMA node: /sys/bus/pci/devices/0000:1c:00.0/numa_node\n",
      "Your kernel may have been built without NUMA support.\n",
      "2023-06-13 15:12:22.380367: I tensorflow/compiler/xla/stream_executor/cuda/cuda_gpu_executor.cc:982] could not open file to read NUMA node: /sys/bus/pci/devices/0000:1c:00.0/numa_node\n",
      "Your kernel may have been built without NUMA support.\n",
      "2023-06-13 15:12:22.380410: I tensorflow/core/common_runtime/gpu/gpu_device.cc:1722] Could not identify NUMA node of platform GPU id 0, defaulting to 0.  Your kernel may not have been built with NUMA support.\n",
      "2023-06-13 15:12:22.380922: I tensorflow/compiler/xla/stream_executor/cuda/cuda_gpu_executor.cc:982] could not open file to read NUMA node: /sys/bus/pci/devices/0000:1c:00.0/numa_node\n",
      "Your kernel may have been built without NUMA support.\n",
      "2023-06-13 15:12:22.380987: I tensorflow/core/common_runtime/gpu/gpu_device.cc:1635] Created device /job:localhost/replica:0/task:0/device:GPU:0 with 1812 MB memory:  -> device: 0, name: NVIDIA GeForce GTX 1060 3GB, pci bus id: 0000:1c:00.0, compute capability: 6.1\n"
     ]
    }
   ],
   "source": [
    "model = tf.keras.models.Sequential([\n",
    "    tf.keras.layers.Conv2D(32, (3, 3), activation='relu', input_shape=(128, 128, 3)), # Layer 1\n",
    "    tf.keras.layers.MaxPooling2D((2, 2)),\n",
    "    tf.keras.layers.Dropout(0.5),\n",
    "    tf.keras.layers.Conv2D(64, (3, 3), activation='relu'), # Layer 2\n",
    "    tf.keras.layers.MaxPooling2D((2, 2)),\n",
    "    tf.keras.layers.Dropout(0.5),\n",
    "    tf.keras.layers.Conv2D(128, (3, 3), activation='relu'), # Layer 3\n",
    "    tf.keras.layers.MaxPooling2D((2, 2)),\n",
    "    tf.keras.layers.Dropout(0.5),\n",
    "    tf.keras.layers.Flatten(), # Full c. layer\n",
    "    tf.keras.layers.Dense(128, activation='relu'),\n",
    "    tf.keras.layers.Dense(10, activation='softmax')\n",
    "])"
   ]
  },
  {
   "attachments": {},
   "cell_type": "markdown",
   "metadata": {},
   "source": [
    "# Compile the model"
   ]
  },
  {
   "cell_type": "code",
   "execution_count": 5,
   "metadata": {},
   "outputs": [],
   "source": [
    "model.compile(optimizer='adam',\n",
    "              loss='categorical_crossentropy',\n",
    "              metrics=['accuracy'])"
   ]
  },
  {
   "attachments": {},
   "cell_type": "markdown",
   "metadata": {},
   "source": [
    "# Kfold Functions Define"
   ]
  },
  {
   "cell_type": "code",
   "execution_count": 6,
   "metadata": {},
   "outputs": [],
   "source": [
    "def move(src,des,spiltRate):\n",
    "    srcFiles = listdir(src)\n",
    "    if(len(srcFiles) != 0):\n",
    "        numberOfTransfer = int(len(srcFiles)*spiltRate)\n",
    "        transferIndex = random.sample(range(0,len(srcFiles)),numberOfTransfer)\n",
    "        for index in transferIndex :\n",
    "            shutil.move(path.join(src,str(srcFiles[index])),\n",
    "                        path.join(des,str(srcFiles[index])))\n",
    "    else:\n",
    "        print(\"No file move\")\n",
    "\n",
    "def moveClass(src=trainDataPath,des=validationDataPath,spiltRate=0.2):\n",
    "    for label in classficationLabels:\n",
    "        move(path.join(src,label),\n",
    "             path.join(des,label),\n",
    "             spiltRate\n",
    "            )\n",
    "        \n",
    "def fillArr():\n",
    "    X=[]\n",
    "    Y=[]\n",
    "    for folder in classficationLabels:\n",
    "        srcFiles = listdir(path.join(trainDataPath,folder))\n",
    "        yLabel = 0\n",
    "        for i in range(len(classficationLabels)):\n",
    "            if(folder == classficationLabels[i]):\n",
    "                yLabel = i\n",
    "        for imageName in srcFiles:\n",
    "            X.append(imageName)\n",
    "            Y.append(yLabel)\n",
    "    X = np.asarray(X)\n",
    "    Y = np.asarray(Y)\n",
    "    return X,Y\n",
    "\n",
    "def meansure(anwser,predict):\n",
    "    accuracy = accuracy_score(anwser,predict)\n",
    "    precision = precision_score(anwser,predict,average='weighted')\n",
    "    f1 = f1_score(anwser,predict,average='weighted')\n",
    "    print(\"Accuracy : %d\\nPrecision : %d\\nf1Score : %d\\n\" %(accuracy,precision,f1))\n",
    "    confusionMatrix = confusion_matrix(anwser,predict)\n",
    "    print(\"Confusion_Matrix : \\n{}\".format(confusionMatrix))\n",
    "    return accuracy,precision,f1\n"
   ]
  },
  {
   "attachments": {},
   "cell_type": "markdown",
   "metadata": {},
   "source": [
    "# Kfold"
   ]
  },
  {
   "cell_type": "code",
   "execution_count": 7,
   "metadata": {},
   "outputs": [
    {
     "name": "stdout",
     "output_type": "stream",
     "text": [
      "No file move\n",
      "No file move\n",
      "No file move\n",
      "No file move\n",
      "No file move\n",
      "No file move\n",
      "No file move\n",
      "No file move\n",
      "No file move\n",
      "No file move\n",
      "Fold : 1\n",
      "Found 800 images belonging to 10 classes.\n",
      "Found 200 images belonging to 10 classes.\n",
      "Epoch 1/25\n"
     ]
    },
    {
     "name": "stderr",
     "output_type": "stream",
     "text": [
      "2023-06-13 15:12:29.112414: I tensorflow/core/common_runtime/executor.cc:1197] [/device:CPU:0] (DEBUG INFO) Executor start aborting (this does not indicate an error and you can ignore this message): INVALID_ARGUMENT: You must feed a value for placeholder tensor 'Placeholder/_0' with dtype int32\n",
      "\t [[{{node Placeholder/_0}}]]\n",
      "2023-06-13 15:12:30.899351: E tensorflow/core/grappler/optimizers/meta_optimizer.cc:954] layout failed: INVALID_ARGUMENT: Size of values 0 does not match size of permutation 4 @ fanin shape insequential/dropout/dropout/SelectV2-2-TransposeNHWCToNCHW-LayoutOptimizer\n",
      "2023-06-13 15:12:33.052399: I tensorflow/compiler/xla/stream_executor/cuda/cuda_dnn.cc:424] Loaded cuDNN version 8600\n",
      "2023-06-13 15:12:34.624362: I tensorflow/compiler/xla/service/service.cc:169] XLA service 0x7fd73400db40 initialized for platform CUDA (this does not guarantee that XLA will be used). Devices:\n",
      "2023-06-13 15:12:34.624496: I tensorflow/compiler/xla/service/service.cc:177]   StreamExecutor device (0): NVIDIA GeForce GTX 1060 3GB, Compute Capability 6.1\n",
      "2023-06-13 15:12:34.631787: I tensorflow/compiler/mlir/tensorflow/utils/dump_mlir_util.cc:269] disabling MLIR crash reproducer, set env var `MLIR_CRASH_REPRODUCER_DIRECTORY` to enable.\n",
      "2023-06-13 15:12:34.807292: I ./tensorflow/compiler/jit/device_compiler.h:180] Compiled cluster using XLA!  This line is logged at most once for the lifetime of the process.\n"
     ]
    },
    {
     "name": "stdout",
     "output_type": "stream",
     "text": [
      "25/25 [==============================] - ETA: 0s - loss: 2.7415 - accuracy: 0.1075"
     ]
    },
    {
     "name": "stderr",
     "output_type": "stream",
     "text": [
      "2023-06-13 15:12:43.751299: I tensorflow/core/common_runtime/executor.cc:1197] [/device:CPU:0] (DEBUG INFO) Executor start aborting (this does not indicate an error and you can ignore this message): INVALID_ARGUMENT: You must feed a value for placeholder tensor 'Placeholder/_0' with dtype int32\n",
      "\t [[{{node Placeholder/_0}}]]\n"
     ]
    },
    {
     "name": "stdout",
     "output_type": "stream",
     "text": [
      "25/25 [==============================] - 16s 322ms/step - loss: 2.7415 - accuracy: 0.1075 - val_loss: 0.0000e+00 - val_accuracy: 0.0000e+00\n",
      "Epoch 2/25\n",
      "25/25 [==============================] - 9s 361ms/step - loss: 2.3029 - accuracy: 0.0875 - val_loss: 0.0000e+00 - val_accuracy: 0.0000e+00\n",
      "Epoch 3/25\n",
      "25/25 [==============================] - 9s 347ms/step - loss: 2.3028 - accuracy: 0.1025 - val_loss: 0.0000e+00 - val_accuracy: 0.0000e+00\n",
      "Epoch 4/25\n",
      "25/25 [==============================] - 8s 321ms/step - loss: 2.2932 - accuracy: 0.1450 - val_loss: 0.0000e+00 - val_accuracy: 0.0000e+00\n",
      "Epoch 5/25\n",
      "25/25 [==============================] - 8s 330ms/step - loss: 2.1126 - accuracy: 0.2313 - val_loss: 0.0000e+00 - val_accuracy: 0.0000e+00\n",
      "Epoch 6/25\n",
      "25/25 [==============================] - 7s 296ms/step - loss: 1.8066 - accuracy: 0.3762 - val_loss: 0.0000e+00 - val_accuracy: 0.0000e+00\n",
      "Epoch 7/25\n",
      "25/25 [==============================] - 7s 286ms/step - loss: 1.4979 - accuracy: 0.4900 - val_loss: 0.0000e+00 - val_accuracy: 0.0000e+00\n",
      "Epoch 8/25\n",
      "25/25 [==============================] - 7s 280ms/step - loss: 1.3517 - accuracy: 0.5175 - val_loss: 0.0000e+00 - val_accuracy: 0.0000e+00\n",
      "Epoch 9/25\n",
      "25/25 [==============================] - 7s 287ms/step - loss: 1.1458 - accuracy: 0.6338 - val_loss: 0.0000e+00 - val_accuracy: 0.0000e+00\n",
      "Epoch 10/25\n",
      "25/25 [==============================] - 7s 287ms/step - loss: 0.8117 - accuracy: 0.7625 - val_loss: 0.0000e+00 - val_accuracy: 0.0000e+00\n",
      "Epoch 11/25\n",
      "25/25 [==============================] - 7s 293ms/step - loss: 0.5701 - accuracy: 0.8288 - val_loss: 0.0000e+00 - val_accuracy: 0.0000e+00\n",
      "Epoch 12/25\n",
      "25/25 [==============================] - 8s 300ms/step - loss: 0.5835 - accuracy: 0.8175 - val_loss: 0.0000e+00 - val_accuracy: 0.0000e+00\n",
      "Epoch 13/25\n",
      "25/25 [==============================] - 8s 302ms/step - loss: 0.4080 - accuracy: 0.8813 - val_loss: 0.0000e+00 - val_accuracy: 0.0000e+00\n",
      "Epoch 14/25\n",
      "25/25 [==============================] - 8s 304ms/step - loss: 0.3673 - accuracy: 0.8913 - val_loss: 0.0000e+00 - val_accuracy: 0.0000e+00\n",
      "Epoch 15/25\n",
      "25/25 [==============================] - 7s 293ms/step - loss: 0.3043 - accuracy: 0.9150 - val_loss: 0.0000e+00 - val_accuracy: 0.0000e+00\n",
      "Epoch 16/25\n",
      "25/25 [==============================] - 7s 293ms/step - loss: 0.2688 - accuracy: 0.9187 - val_loss: 0.0000e+00 - val_accuracy: 0.0000e+00\n",
      "Epoch 17/25\n",
      "25/25 [==============================] - 8s 314ms/step - loss: 0.2527 - accuracy: 0.9162 - val_loss: 0.0000e+00 - val_accuracy: 0.0000e+00\n",
      "Epoch 18/25\n",
      "25/25 [==============================] - 8s 316ms/step - loss: 0.2224 - accuracy: 0.9375 - val_loss: 0.0000e+00 - val_accuracy: 0.0000e+00\n",
      "Epoch 19/25\n",
      "25/25 [==============================] - 7s 297ms/step - loss: 0.2600 - accuracy: 0.9175 - val_loss: 0.0000e+00 - val_accuracy: 0.0000e+00\n",
      "Epoch 20/25\n",
      "25/25 [==============================] - 8s 337ms/step - loss: 0.1806 - accuracy: 0.9350 - val_loss: 0.0000e+00 - val_accuracy: 0.0000e+00\n",
      "Epoch 21/25\n",
      "25/25 [==============================] - 9s 333ms/step - loss: 0.1735 - accuracy: 0.9488 - val_loss: 0.0000e+00 - val_accuracy: 0.0000e+00\n",
      "Epoch 22/25\n",
      "25/25 [==============================] - 7s 297ms/step - loss: 0.1901 - accuracy: 0.9438 - val_loss: 0.0000e+00 - val_accuracy: 0.0000e+00\n",
      "Epoch 23/25\n",
      "25/25 [==============================] - 8s 300ms/step - loss: 0.1453 - accuracy: 0.9550 - val_loss: 0.0000e+00 - val_accuracy: 0.0000e+00\n",
      "Epoch 24/25\n",
      "25/25 [==============================] - 8s 301ms/step - loss: 0.1615 - accuracy: 0.9525 - val_loss: 0.0000e+00 - val_accuracy: 0.0000e+00\n",
      "Epoch 25/25\n",
      "25/25 [==============================] - 8s 302ms/step - loss: 0.1348 - accuracy: 0.9613 - val_loss: 0.0000e+00 - val_accuracy: 0.0000e+00\n",
      "Fold : 2\n",
      "Found 800 images belonging to 10 classes.\n",
      "Found 200 images belonging to 10 classes.\n",
      "Epoch 1/25\n"
     ]
    },
    {
     "name": "stderr",
     "output_type": "stream",
     "text": [
      "2023-06-13 15:15:54.052277: I tensorflow/core/common_runtime/executor.cc:1197] [/device:CPU:0] (DEBUG INFO) Executor start aborting (this does not indicate an error and you can ignore this message): INVALID_ARGUMENT: You must feed a value for placeholder tensor 'Placeholder/_0' with dtype int32\n",
      "\t [[{{node Placeholder/_0}}]]\n"
     ]
    },
    {
     "name": "stdout",
     "output_type": "stream",
     "text": [
      "25/25 [==============================] - ETA: 0s - loss: 0.1655 - accuracy: 0.9538"
     ]
    },
    {
     "name": "stderr",
     "output_type": "stream",
     "text": [
      "2023-06-13 15:16:01.710089: I tensorflow/core/common_runtime/executor.cc:1197] [/device:CPU:0] (DEBUG INFO) Executor start aborting (this does not indicate an error and you can ignore this message): INVALID_ARGUMENT: You must feed a value for placeholder tensor 'Placeholder/_0' with dtype int32\n",
      "\t [[{{node Placeholder/_0}}]]\n"
     ]
    },
    {
     "name": "stdout",
     "output_type": "stream",
     "text": [
      "25/25 [==============================] - 9s 331ms/step - loss: 0.1655 - accuracy: 0.9538 - val_loss: 0.0000e+00 - val_accuracy: 0.0000e+00\n",
      "Epoch 2/25\n",
      "25/25 [==============================] - 8s 304ms/step - loss: 0.1368 - accuracy: 0.9500 - val_loss: 0.0000e+00 - val_accuracy: 0.0000e+00\n",
      "Epoch 3/25\n",
      "25/25 [==============================] - 8s 304ms/step - loss: 0.1359 - accuracy: 0.9600 - val_loss: 0.0000e+00 - val_accuracy: 0.0000e+00\n",
      "Epoch 4/25\n",
      "25/25 [==============================] - 8s 307ms/step - loss: 0.1050 - accuracy: 0.9613 - val_loss: 0.0000e+00 - val_accuracy: 0.0000e+00\n",
      "Epoch 5/25\n",
      "25/25 [==============================] - 8s 307ms/step - loss: 0.1093 - accuracy: 0.9725 - val_loss: 0.0000e+00 - val_accuracy: 0.0000e+00\n",
      "Epoch 6/25\n",
      "25/25 [==============================] - 8s 305ms/step - loss: 0.1346 - accuracy: 0.9588 - val_loss: 0.0000e+00 - val_accuracy: 0.0000e+00\n",
      "Epoch 7/25\n",
      "25/25 [==============================] - 8s 299ms/step - loss: 0.0662 - accuracy: 0.9812 - val_loss: 0.0000e+00 - val_accuracy: 0.0000e+00\n",
      "Epoch 8/25\n",
      "25/25 [==============================] - 8s 306ms/step - loss: 0.0627 - accuracy: 0.9787 - val_loss: 0.0000e+00 - val_accuracy: 0.0000e+00\n",
      "Epoch 9/25\n",
      "25/25 [==============================] - 9s 343ms/step - loss: 0.0616 - accuracy: 0.9812 - val_loss: 0.0000e+00 - val_accuracy: 0.0000e+00\n",
      "Epoch 10/25\n",
      "25/25 [==============================] - 8s 315ms/step - loss: 0.0516 - accuracy: 0.9862 - val_loss: 0.0000e+00 - val_accuracy: 0.0000e+00\n",
      "Epoch 11/25\n",
      "25/25 [==============================] - 8s 307ms/step - loss: 0.0500 - accuracy: 0.9862 - val_loss: 0.0000e+00 - val_accuracy: 0.0000e+00\n",
      "Epoch 12/25\n",
      "25/25 [==============================] - 8s 313ms/step - loss: 0.0497 - accuracy: 0.9812 - val_loss: 0.0000e+00 - val_accuracy: 0.0000e+00\n",
      "Epoch 13/25\n",
      "25/25 [==============================] - 8s 305ms/step - loss: 0.0796 - accuracy: 0.9737 - val_loss: 0.0000e+00 - val_accuracy: 0.0000e+00\n",
      "Epoch 14/25\n",
      "25/25 [==============================] - 8s 307ms/step - loss: 0.0652 - accuracy: 0.9837 - val_loss: 0.0000e+00 - val_accuracy: 0.0000e+00\n",
      "Epoch 15/25\n",
      "25/25 [==============================] - 8s 303ms/step - loss: 0.0647 - accuracy: 0.9775 - val_loss: 0.0000e+00 - val_accuracy: 0.0000e+00\n",
      "Epoch 16/25\n",
      "25/25 [==============================] - 8s 307ms/step - loss: 0.0455 - accuracy: 0.9875 - val_loss: 0.0000e+00 - val_accuracy: 0.0000e+00\n",
      "Epoch 17/25\n",
      "25/25 [==============================] - 8s 305ms/step - loss: 0.0554 - accuracy: 0.9812 - val_loss: 0.0000e+00 - val_accuracy: 0.0000e+00\n",
      "Epoch 18/25\n",
      "25/25 [==============================] - 8s 305ms/step - loss: 0.0390 - accuracy: 0.9887 - val_loss: 0.0000e+00 - val_accuracy: 0.0000e+00\n",
      "Epoch 19/25\n",
      "25/25 [==============================] - 8s 315ms/step - loss: 0.0584 - accuracy: 0.9775 - val_loss: 0.0000e+00 - val_accuracy: 0.0000e+00\n",
      "Epoch 20/25\n",
      "25/25 [==============================] - 8s 308ms/step - loss: 0.0477 - accuracy: 0.9850 - val_loss: 0.0000e+00 - val_accuracy: 0.0000e+00\n",
      "Epoch 21/25\n",
      "25/25 [==============================] - 8s 306ms/step - loss: 0.0245 - accuracy: 0.9962 - val_loss: 0.0000e+00 - val_accuracy: 0.0000e+00\n",
      "Epoch 22/25\n",
      "25/25 [==============================] - 8s 304ms/step - loss: 0.0204 - accuracy: 0.9975 - val_loss: 0.0000e+00 - val_accuracy: 0.0000e+00\n",
      "Epoch 23/25\n",
      "25/25 [==============================] - 8s 314ms/step - loss: 0.0285 - accuracy: 0.9887 - val_loss: 0.0000e+00 - val_accuracy: 0.0000e+00\n",
      "Epoch 24/25\n",
      "25/25 [==============================] - 8s 325ms/step - loss: 0.0287 - accuracy: 0.9900 - val_loss: 0.0000e+00 - val_accuracy: 0.0000e+00\n",
      "Epoch 25/25\n",
      "25/25 [==============================] - 8s 312ms/step - loss: 0.0387 - accuracy: 0.9900 - val_loss: 0.0000e+00 - val_accuracy: 0.0000e+00\n",
      "Fold : 3\n",
      "Found 800 images belonging to 10 classes.\n",
      "Found 200 images belonging to 10 classes.\n",
      "Epoch 1/25\n"
     ]
    },
    {
     "name": "stderr",
     "output_type": "stream",
     "text": [
      "2023-06-13 15:19:14.847845: I tensorflow/core/common_runtime/executor.cc:1197] [/device:CPU:0] (DEBUG INFO) Executor start aborting (this does not indicate an error and you can ignore this message): INVALID_ARGUMENT: You must feed a value for placeholder tensor 'Placeholder/_0' with dtype int32\n",
      "\t [[{{node Placeholder/_0}}]]\n"
     ]
    },
    {
     "name": "stdout",
     "output_type": "stream",
     "text": [
      "25/25 [==============================] - ETA: 0s - loss: 0.0907 - accuracy: 0.9762"
     ]
    },
    {
     "name": "stderr",
     "output_type": "stream",
     "text": [
      "2023-06-13 15:19:22.006162: I tensorflow/core/common_runtime/executor.cc:1197] [/device:CPU:0] (DEBUG INFO) Executor start aborting (this does not indicate an error and you can ignore this message): INVALID_ARGUMENT: You must feed a value for placeholder tensor 'Placeholder/_0' with dtype int32\n",
      "\t [[{{node Placeholder/_0}}]]\n"
     ]
    },
    {
     "name": "stdout",
     "output_type": "stream",
     "text": [
      "25/25 [==============================] - 8s 315ms/step - loss: 0.0907 - accuracy: 0.9762 - val_loss: 0.0000e+00 - val_accuracy: 0.0000e+00\n",
      "Epoch 2/25\n",
      "25/25 [==============================] - 8s 304ms/step - loss: 0.1058 - accuracy: 0.9712 - val_loss: 0.0000e+00 - val_accuracy: 0.0000e+00\n",
      "Epoch 3/25\n",
      "25/25 [==============================] - 8s 308ms/step - loss: 0.0539 - accuracy: 0.9812 - val_loss: 0.0000e+00 - val_accuracy: 0.0000e+00\n",
      "Epoch 4/25\n",
      "25/25 [==============================] - 8s 302ms/step - loss: 0.0484 - accuracy: 0.9850 - val_loss: 0.0000e+00 - val_accuracy: 0.0000e+00\n",
      "Epoch 5/25\n",
      "25/25 [==============================] - 9s 351ms/step - loss: 0.0518 - accuracy: 0.9850 - val_loss: 0.0000e+00 - val_accuracy: 0.0000e+00\n",
      "Epoch 6/25\n",
      "25/25 [==============================] - 8s 308ms/step - loss: 0.0493 - accuracy: 0.9825 - val_loss: 0.0000e+00 - val_accuracy: 0.0000e+00\n",
      "Epoch 7/25\n",
      "25/25 [==============================] - 7s 293ms/step - loss: 0.0583 - accuracy: 0.9825 - val_loss: 0.0000e+00 - val_accuracy: 0.0000e+00\n",
      "Epoch 8/25\n",
      "25/25 [==============================] - 8s 335ms/step - loss: 0.0441 - accuracy: 0.9862 - val_loss: 0.0000e+00 - val_accuracy: 0.0000e+00\n",
      "Epoch 9/25\n",
      "25/25 [==============================] - 9s 349ms/step - loss: 0.0710 - accuracy: 0.9787 - val_loss: 0.0000e+00 - val_accuracy: 0.0000e+00\n",
      "Epoch 10/25\n",
      "25/25 [==============================] - 7s 296ms/step - loss: 0.0833 - accuracy: 0.9750 - val_loss: 0.0000e+00 - val_accuracy: 0.0000e+00\n",
      "Epoch 11/25\n",
      "25/25 [==============================] - 7s 284ms/step - loss: 0.0793 - accuracy: 0.9750 - val_loss: 0.0000e+00 - val_accuracy: 0.0000e+00\n",
      "Epoch 12/25\n",
      "25/25 [==============================] - 7s 285ms/step - loss: 0.0468 - accuracy: 0.9837 - val_loss: 0.0000e+00 - val_accuracy: 0.0000e+00\n",
      "Epoch 13/25\n",
      "25/25 [==============================] - 7s 297ms/step - loss: 0.0707 - accuracy: 0.9762 - val_loss: 0.0000e+00 - val_accuracy: 0.0000e+00\n",
      "Epoch 14/25\n",
      "25/25 [==============================] - 8s 301ms/step - loss: 0.0257 - accuracy: 0.9887 - val_loss: 0.0000e+00 - val_accuracy: 0.0000e+00\n",
      "Epoch 15/25\n",
      "25/25 [==============================] - 7s 282ms/step - loss: 0.0183 - accuracy: 0.9950 - val_loss: 0.0000e+00 - val_accuracy: 0.0000e+00\n",
      "Epoch 16/25\n",
      "25/25 [==============================] - 8s 306ms/step - loss: 0.0250 - accuracy: 0.9912 - val_loss: 0.0000e+00 - val_accuracy: 0.0000e+00\n",
      "Epoch 17/25\n",
      "25/25 [==============================] - 8s 298ms/step - loss: 0.0466 - accuracy: 0.9837 - val_loss: 0.0000e+00 - val_accuracy: 0.0000e+00\n",
      "Epoch 18/25\n",
      "25/25 [==============================] - 7s 291ms/step - loss: 0.0267 - accuracy: 0.9875 - val_loss: 0.0000e+00 - val_accuracy: 0.0000e+00\n",
      "Epoch 19/25\n",
      "25/25 [==============================] - 9s 372ms/step - loss: 0.0688 - accuracy: 0.9812 - val_loss: 0.0000e+00 - val_accuracy: 0.0000e+00\n",
      "Epoch 20/25\n",
      "25/25 [==============================] - 8s 332ms/step - loss: 0.0381 - accuracy: 0.9862 - val_loss: 0.0000e+00 - val_accuracy: 0.0000e+00\n",
      "Epoch 21/25\n",
      "25/25 [==============================] - 8s 319ms/step - loss: 0.0408 - accuracy: 0.9850 - val_loss: 0.0000e+00 - val_accuracy: 0.0000e+00\n",
      "Epoch 22/25\n",
      "25/25 [==============================] - 8s 321ms/step - loss: 0.0221 - accuracy: 0.9912 - val_loss: 0.0000e+00 - val_accuracy: 0.0000e+00\n",
      "Epoch 23/25\n",
      "25/25 [==============================] - 8s 320ms/step - loss: 0.0265 - accuracy: 0.9887 - val_loss: 0.0000e+00 - val_accuracy: 0.0000e+00\n",
      "Epoch 24/25\n",
      "25/25 [==============================] - 8s 319ms/step - loss: 0.0217 - accuracy: 0.9925 - val_loss: 0.0000e+00 - val_accuracy: 0.0000e+00\n",
      "Epoch 25/25\n",
      "25/25 [==============================] - 8s 314ms/step - loss: 0.0157 - accuracy: 0.9962 - val_loss: 0.0000e+00 - val_accuracy: 0.0000e+00\n",
      "Fold : 4\n",
      "Found 800 images belonging to 10 classes.\n",
      "Found 200 images belonging to 10 classes.\n",
      "Epoch 1/25\n"
     ]
    },
    {
     "name": "stderr",
     "output_type": "stream",
     "text": [
      "2023-06-13 15:22:34.190149: I tensorflow/core/common_runtime/executor.cc:1197] [/device:CPU:0] (DEBUG INFO) Executor start aborting (this does not indicate an error and you can ignore this message): INVALID_ARGUMENT: You must feed a value for placeholder tensor 'Placeholder/_0' with dtype int32\n",
      "\t [[{{node Placeholder/_0}}]]\n"
     ]
    },
    {
     "name": "stdout",
     "output_type": "stream",
     "text": [
      "25/25 [==============================] - ETA: 0s - loss: 0.0680 - accuracy: 0.9800"
     ]
    },
    {
     "name": "stderr",
     "output_type": "stream",
     "text": [
      "2023-06-13 15:22:41.597295: I tensorflow/core/common_runtime/executor.cc:1197] [/device:CPU:0] (DEBUG INFO) Executor start aborting (this does not indicate an error and you can ignore this message): INVALID_ARGUMENT: You must feed a value for placeholder tensor 'Placeholder/_0' with dtype int32\n",
      "\t [[{{node Placeholder/_0}}]]\n"
     ]
    },
    {
     "name": "stdout",
     "output_type": "stream",
     "text": [
      "25/25 [==============================] - 8s 324ms/step - loss: 0.0680 - accuracy: 0.9800 - val_loss: 0.0000e+00 - val_accuracy: 0.0000e+00\n",
      "Epoch 2/25\n",
      "25/25 [==============================] - 8s 312ms/step - loss: 0.0733 - accuracy: 0.9875 - val_loss: 0.0000e+00 - val_accuracy: 0.0000e+00\n",
      "Epoch 3/25\n",
      "25/25 [==============================] - 8s 317ms/step - loss: 0.0683 - accuracy: 0.9787 - val_loss: 0.0000e+00 - val_accuracy: 0.0000e+00\n",
      "Epoch 4/25\n",
      "25/25 [==============================] - 8s 319ms/step - loss: 0.0400 - accuracy: 0.9875 - val_loss: 0.0000e+00 - val_accuracy: 0.0000e+00\n",
      "Epoch 5/25\n",
      "25/25 [==============================] - 8s 315ms/step - loss: 0.0371 - accuracy: 0.9925 - val_loss: 0.0000e+00 - val_accuracy: 0.0000e+00\n",
      "Epoch 6/25\n",
      "25/25 [==============================] - 8s 311ms/step - loss: 0.0222 - accuracy: 0.9950 - val_loss: 0.0000e+00 - val_accuracy: 0.0000e+00\n",
      "Epoch 7/25\n",
      "25/25 [==============================] - 8s 310ms/step - loss: 0.0353 - accuracy: 0.9887 - val_loss: 0.0000e+00 - val_accuracy: 0.0000e+00\n",
      "Epoch 8/25\n",
      "25/25 [==============================] - 8s 322ms/step - loss: 0.0536 - accuracy: 0.9787 - val_loss: 0.0000e+00 - val_accuracy: 0.0000e+00\n",
      "Epoch 9/25\n",
      "25/25 [==============================] - 8s 313ms/step - loss: 0.0230 - accuracy: 0.9937 - val_loss: 0.0000e+00 - val_accuracy: 0.0000e+00\n",
      "Epoch 10/25\n",
      "25/25 [==============================] - 8s 316ms/step - loss: 0.0232 - accuracy: 0.9937 - val_loss: 0.0000e+00 - val_accuracy: 0.0000e+00\n",
      "Epoch 11/25\n",
      "25/25 [==============================] - 9s 344ms/step - loss: 0.0334 - accuracy: 0.9862 - val_loss: 0.0000e+00 - val_accuracy: 0.0000e+00\n",
      "Epoch 12/25\n",
      "25/25 [==============================] - 8s 317ms/step - loss: 0.0303 - accuracy: 0.9862 - val_loss: 0.0000e+00 - val_accuracy: 0.0000e+00\n",
      "Epoch 13/25\n",
      "25/25 [==============================] - 8s 316ms/step - loss: 0.0148 - accuracy: 0.9962 - val_loss: 0.0000e+00 - val_accuracy: 0.0000e+00\n",
      "Epoch 14/25\n",
      "25/25 [==============================] - 8s 315ms/step - loss: 0.0238 - accuracy: 0.9925 - val_loss: 0.0000e+00 - val_accuracy: 0.0000e+00\n",
      "Epoch 15/25\n",
      "25/25 [==============================] - 9s 351ms/step - loss: 0.0122 - accuracy: 0.9975 - val_loss: 0.0000e+00 - val_accuracy: 0.0000e+00\n",
      "Epoch 16/25\n",
      "25/25 [==============================] - 9s 355ms/step - loss: 0.0093 - accuracy: 0.9987 - val_loss: 0.0000e+00 - val_accuracy: 0.0000e+00\n",
      "Epoch 17/25\n",
      "25/25 [==============================] - 8s 324ms/step - loss: 0.0416 - accuracy: 0.9887 - val_loss: 0.0000e+00 - val_accuracy: 0.0000e+00\n",
      "Epoch 18/25\n",
      "25/25 [==============================] - 8s 313ms/step - loss: 0.0170 - accuracy: 0.9950 - val_loss: 0.0000e+00 - val_accuracy: 0.0000e+00\n",
      "Epoch 19/25\n",
      "25/25 [==============================] - 8s 313ms/step - loss: 0.0692 - accuracy: 0.9787 - val_loss: 0.0000e+00 - val_accuracy: 0.0000e+00\n",
      "Epoch 20/25\n",
      "25/25 [==============================] - 8s 330ms/step - loss: 0.0604 - accuracy: 0.9825 - val_loss: 0.0000e+00 - val_accuracy: 0.0000e+00\n",
      "Epoch 21/25\n",
      "25/25 [==============================] - 8s 324ms/step - loss: 0.0571 - accuracy: 0.9837 - val_loss: 0.0000e+00 - val_accuracy: 0.0000e+00\n",
      "Epoch 22/25\n",
      "25/25 [==============================] - 10s 393ms/step - loss: 0.0535 - accuracy: 0.9850 - val_loss: 0.0000e+00 - val_accuracy: 0.0000e+00\n",
      "Epoch 23/25\n",
      "25/25 [==============================] - 9s 359ms/step - loss: 0.0416 - accuracy: 0.9862 - val_loss: 0.0000e+00 - val_accuracy: 0.0000e+00\n",
      "Epoch 24/25\n",
      "25/25 [==============================] - 8s 319ms/step - loss: 0.0428 - accuracy: 0.9837 - val_loss: 0.0000e+00 - val_accuracy: 0.0000e+00\n",
      "Epoch 25/25\n",
      "25/25 [==============================] - 8s 333ms/step - loss: 0.0379 - accuracy: 0.9912 - val_loss: 0.0000e+00 - val_accuracy: 0.0000e+00\n"
     ]
    }
   ],
   "source": [
    "moveClass(validationDataPath,trainDataPath,1.0)\n",
    "arrX,arrY = fillArr()\n",
    "fold = StratifiedKFold(n_splits=4,shuffle=True)\n",
    "fold.get_n_splits(arrX,arrY)\n",
    "foldIndex = 0\n",
    "results = []\n",
    "for trainIndex,labelIndex in fold.split(arrX,arrY):\n",
    "    moveClass()\n",
    "    foldIndex += 1\n",
    "    print(\"Fold :\",foldIndex)\n",
    "    xTrain,xValue = arrX[trainIndex],arrX[labelIndex]\n",
    "    yTrain,yValue = arrY[trainIndex],arrY[labelIndex]\n",
    "    trainData = loadData('train')\n",
    "    validData = loadData('valid')\n",
    "    result = model.fit(\n",
    "        trainData,\n",
    "        epochs=25,\n",
    "        verbose=1,\n",
    "        validation_data=validData,\n",
    "        steps_per_epoch=trainData.samples/trainData.batch_size,\n",
    "        validation_steps=validData.samples/validData.batch_size\n",
    "        )\n",
    "    moveClass(validationDataPath,trainDataPath,1.0)\n",
    "    results.append(result.history['accuracy'][len(result.history['accuracy'])-1])\n",
    "\n"
   ]
  },
  {
   "cell_type": "code",
   "execution_count": 8,
   "metadata": {},
   "outputs": [
    {
     "name": "stdout",
     "output_type": "stream",
     "text": [
      "Fold 1 : 0.961\n",
      "Fold 2 : 0.990\n",
      "Fold 3 : 0.996\n",
      "Fold 4 : 0.991\n"
     ]
    }
   ],
   "source": [
    "index = 0\n",
    "for value in results:\n",
    "    index+=1\n",
    "    print(\"Fold %d : %.3f\" %(index,value))"
   ]
  },
  {
   "cell_type": "code",
   "execution_count": 11,
   "metadata": {},
   "outputs": [
    {
     "name": "stdout",
     "output_type": "stream",
     "text": [
      "Found 500 images belonging to 10 classes.\n"
     ]
    },
    {
     "name": "stderr",
     "output_type": "stream",
     "text": [
      "2023-06-13 15:28:37.274245: I tensorflow/core/common_runtime/executor.cc:1197] [/device:CPU:0] (DEBUG INFO) Executor start aborting (this does not indicate an error and you can ignore this message): INVALID_ARGUMENT: You must feed a value for placeholder tensor 'Placeholder/_0' with dtype int32\n",
      "\t [[{{node Placeholder/_0}}]]\n"
     ]
    },
    {
     "name": "stdout",
     "output_type": "stream",
     "text": [
      "16/16 [==============================] - 4s 238ms/step - loss: 0.6849 - accuracy: 0.9020\n",
      "Test Accuracy : 0.902\n"
     ]
    }
   ],
   "source": [
    "loss,acc = model.evaluate(loadData(\"test\"))\n",
    "print(\"Test Accuracy : %3.3f\" %(acc))"
   ]
  },
  {
   "cell_type": "code",
   "execution_count": 9,
   "metadata": {},
   "outputs": [],
   "source": [
    "# model.save(filepath='/home/result.h5')\n"
   ]
  }
 ],
 "metadata": {
  "kernelspec": {
   "display_name": "Python 3 (ipykernel)",
   "language": "python",
   "name": "python3"
  },
  "language_info": {
   "codemirror_mode": {
    "name": "ipython",
    "version": 3
   },
   "file_extension": ".py",
   "mimetype": "text/x-python",
   "name": "python",
   "nbconvert_exporter": "python",
   "pygments_lexer": "ipython3",
   "version": "3.8.10"
  },
  "orig_nbformat": 4
 },
 "nbformat": 4,
 "nbformat_minor": 2
}
